{
 "cells": [
  {
   "cell_type": "code",
   "execution_count": 1,
   "metadata": {},
   "outputs": [],
   "source": [
    "#ESTE TRABALHO TEM COMO OBJETIVO ENCONTRAR QUAL A MELHOR IDADE PARA SE INICIAR UMA CAMPANHA DE PREVENÇÃO AO VÍCIO DE ALCOOL.\n",
    "#ANALISANDO O DATASET PENSE 2015 PODEMOS, PRIMEIRAMENTE, CRIAR UM CLASSIFICADOR DE PADRÕES PARA MAPEAR OS ALUNOS QUE \n",
    "#NÃO RESPONDERAM A PERGUNTA VB05002(experimentou alcool ou não), ou seja, com VB05002 = 99"
   ]
  },
  {
   "cell_type": "code",
   "execution_count": 8,
   "metadata": {},
   "outputs": [],
   "source": [
    "import pandas as pd\n",
    "import numpy as np\n",
    "from imblearn.metrics import classification_report_imbalanced\n",
    "from sklearn.preprocessing import normalize\n",
    "from sklearn.discriminant_analysis import QuadraticDiscriminantAnalysis\n",
    "from sklearn.ensemble import RandomForestClassifier, AdaBoostClassifier\n",
    "from sklearn.gaussian_process import GaussianProcessClassifier\n",
    "from sklearn.gaussian_process.kernels import RBF\n",
    "from sklearn.linear_model import LogisticRegression\n",
    "from sklearn.metrics import accuracy_score, roc_auc_score\n",
    "from sklearn.model_selection import KFold\n",
    "from sklearn.naive_bayes import GaussianNB\n",
    "from sklearn.neighbors import KNeighborsClassifier\n",
    "from sklearn.neural_network import MLPClassifier\n",
    "from sklearn.preprocessing import Normalizer\n",
    "from sklearn.svm import SVC\n",
    "from sklearn.tree import DecisionTreeClassifier\n",
    "\n",
    "classifiers = {\n",
    "    'RF': RandomForestClassifier(n_estimators=100),\n",
    "    #'KNN': KNeighborsClassifier(),\n",
    "    #'DTREE': DecisionTreeClassifier(),\n",
    "    #'GNB': GaussianNB(),\n",
    "    #'LRG': LogisticRegression(),\n",
    "    #'ABC': AdaBoostClassifier(),\n",
    "    #'MLP': MLPClassifier(max_iter=500,alpha=1),\n",
    "    #'KDA': QuadraticDiscriminantAnalysis(),\n",
    "    #'SVM1': SVC(kernel='linear',C=0.025),\n",
    "    #'SVM2': SVC(gamma=2, C=1),\n",
    "    #'GPC': GaussianProcessClassifier(1.0 * RBF(1.0))\n",
    "}\n",
    "def classifica(X,y):\n",
    "\n",
    "    nfolds = 10 #Cross Validation a 10 pastas.\n",
    "    kf = KFold(n_splits=nfolds,shuffle=True)\n",
    "    X = normalize(X)\n",
    "    dfcol = ['FOLD','ALGORITHM','PRE','REC','SPE','F1','GEO','IBA','AUC','ACC']\n",
    "    df = pd.DataFrame(columns=dfcol)\n",
    "    i = 0\n",
    "    fold = 0\n",
    "    for train_index, test_index in kf.split(X):\n",
    "        X_train, X_test = X[train_index],X[test_index]\n",
    "        y_train, y_test = y[train_index],y[test_index]\n",
    "        for name, clf in classifiers.items():\n",
    "            clf.fit(X_train,y_train)\n",
    "            y_pred = clf.predict(X_test)\n",
    "            res = classification_report_imbalanced(y_test, y_pred)\n",
    "            aux = res.split()\n",
    "            score = aux[-7:-1]\n",
    "            df.at[i,'FOLD'] = fold\n",
    "            df.at[i,'ALGORITHM'] = name\n",
    "            df.at[i,'PRE'] = score[0]\n",
    "            df.at[i, 'REC'] = score[1]\n",
    "            df.at[i, 'SPE'] = score[2]\n",
    "            df.at[i, 'F1'] = score[3]\n",
    "            df.at[i, 'GEO'] = score[4]\n",
    "            df.at[i, 'IBA'] = score[5]\n",
    "            df.at[i, 'ACC'] = accuracy_score(y_test,y_pred)\n",
    "            df.at[i, 'AUC'] = roc_auc_score(y_test,y_pred)\n",
    "            i = i + 1\n",
    "            print(str(fold) + ' ' + str(name))\n",
    "        fold = fold + 1\n",
    "    df.to_csv('pode_experimentar_alcool.csv',index=False)\n",
    "    \n",
    "    t = pd.Series(data=np.arange(0, df.shape[0],1))\n",
    "    dfr = pd.DataFrame(columns=['ALGORITHM','PRE','REC','SPE','F1','GEO','IBA','AUC','ACC'],\n",
    "                       index=np.arange(0, int(t.shape[0] / nfolds)))\n",
    "    df_temp = df.groupby(by=['ALGORITHM'])\n",
    "    idx = dfr.index.values\n",
    "    i = idx[0]\n",
    "    for name, group in df_temp:\n",
    "        group = group.reset_index()\n",
    "        dfr.at[i,'ALGORITHM'] = group.loc[0,'ALGORITHM']\n",
    "        dfr.at[i,'PRE'] = group['PRE'].astype(float).mean()\n",
    "    \n",
    "        dfr.at[i, 'REC'] = group['REC'].astype(float).mean()\n",
    "        dfr.at[i, 'SPE'] = group['SPE'].astype(float).mean()\n",
    "        dfr.at[i, 'F1'] = group['F1'].astype(float).mean()\n",
    "        dfr.at[i, 'GEO'] = group['GEO'].astype(float).mean()\n",
    "        dfr.at[i, 'IBA'] = group['IBA'].astype(float).mean()\n",
    "        dfr.at[i, 'ACC'] = group['ACC'].astype(float).mean()\n",
    "        dfr.at[i, 'AUC'] = group['AUC'].astype(float).mean()\n",
    "        i = i + 1\n",
    "    \n",
    "    dfr.to_csv('media_pode_experimentar_alcool.csv',index=False)"
   ]
  },
  {
   "cell_type": "code",
   "execution_count": 9,
   "metadata": {},
   "outputs": [],
   "source": [
    "columns = [\n",
    "'VB01001',\n",
    "'VB01002',\n",
    "'VB01003',\n",
    "'VB01021',\n",
    "'VB01022',\n",
    "'VB01023',\n",
    "'VB01024',\n",
    "'VB01025',\n",
    "'VB01026',\n",
    "'VB01006',\n",
    "'VB01007',\n",
    "'VB01010A',\n",
    "'VB01014',\n",
    "'VB01015A',\n",
    "'VB01016',\n",
    "'VB01017',\n",
    "'VB01018',\n",
    "'VB01008A',\n",
    "'VB01011',\n",
    "'VB01012',\n",
    "'VB02019A',\n",
    "'VB02017A',\n",
    "'VB02024',\n",
    "'VB03003A',\n",
    "'VB03006A',\n",
    "'VB03007',\n",
    "'VB03011A',\n",
    "'VB03009A',\n",
    "'VB03010A',\n",
    "'VB04003',\n",
    "'VB04009',\n",
    "'VB04011',\n",
    "'VB04005',\n",
    "'VB04006A',\n",
    "'VB05004',\n",
    "'VB05005',\n",
    "'VB05006A',\n",
    "'VB05007',\n",
    "'VB05009',\n",
    "'VB05010',\n",
    "'VB06003A',\n",
    "'VB06004A',\n",
    "'VB06005A',\n",
    "'VB06006',\n",
    "'VB07001',\n",
    "'VB07002',\n",
    "'VB07003',\n",
    "'VB07004',\n",
    "'VB07007',\n",
    "'VB07008',\n",
    "'VB07009',\n",
    "'VB07010',\n",
    "'VB12001',\n",
    "'VB12002',\n",
    "'VB12003',\n",
    "'VB08011',\n",
    "'VB08003A',\n",
    "'VB10001A',\n",
    "'VB09001',\n",
    "'VB09002',\n",
    "'VB09003',\n",
    "'VB09010',\n",
    "'VB09011',\n",
    "'VB09012',\n",
    "'VB09016',\n",
    "'VB0901701',\n",
    "'VB0901702',\n",
    "'VB0901703',\n",
    "'VB0901704',\n",
    "'VB0901705',\n",
    "'VB0901706',\n",
    "'VB11006',\n",
    "'VB11007',\n",
    "'VB11001',\n",
    "'VB11002',\n",
    "'VB11004A',\n",
    "'VB11005',\n",
    "#'VB04001',\n",
    "#'VB04002',\n",
    "'VB05002',\n",
    "#'VB05003',\n",
    "#'VB06001',\n",
    "#'VB06002',\n",
    "#'VB08001',\n",
    "#'VB08002',\n",
    "#'VB08013'\n",
    "]"
   ]
  },
  {
   "cell_type": "code",
   "execution_count": 10,
   "metadata": {},
   "outputs": [],
   "source": [
    "import pandas as pd\n",
    "import numpy as np\n",
    "import matplotlib.pyplot as plt"
   ]
  },
  {
   "cell_type": "code",
   "execution_count": 38,
   "metadata": {},
   "outputs": [
    {
     "name": "stdout",
     "output_type": "stream",
     "text": [
      "(102072, 86)\n"
     ]
    }
   ],
   "source": [
    "df = pd.read_csv('PENSE_AMOSTRA1_ALUNO.CSV',sep=';') #le arquivo\n",
    "df = df[columns] #pego somente as colunas de interesse\n",
    "df = df.reset_index()#refaço o index\n",
    "df.drop('index',inplace=True,axis=1)#tiro uma coluna\n",
    "print(df.shape)\n",
    "#retira os alunos que não responderam se já experimentaram alcool\n",
    "df = df[df.VB05002 != 99]"
   ]
  },
  {
   "cell_type": "code",
   "execution_count": 12,
   "metadata": {},
   "outputs": [],
   "source": [
    "#Agora tenho os dados necessários para fazer um classificador de padrões (experimentou alcool ou não)\n",
    "#Este classificador pode ser utilizado para classificar os alunos que tiveram VB05002 == 99\n",
    "#Não vou realizar esta tarefa de classificação dos alunos que não responderam. Deixo esta tarefa a quem quiser \n",
    "#encarar este desafio.\n",
    "X = df.values\n",
    "y = X[:,-1]\n",
    "y = y.reshape(len(y), 1)\n",
    "X = X[:,0:-1]"
   ]
  },
  {
   "cell_type": "code",
   "execution_count": 13,
   "metadata": {},
   "outputs": [
    {
     "name": "stderr",
     "output_type": "stream",
     "text": [
      "/home/itwv/intelpython3/lib/python3.6/site-packages/ipykernel_launcher.py:45: DataConversionWarning: A column-vector y was passed when a 1d array was expected. Please change the shape of y to (n_samples,), for example using ravel().\n"
     ]
    },
    {
     "name": "stdout",
     "output_type": "stream",
     "text": [
      "0 RF\n"
     ]
    },
    {
     "name": "stderr",
     "output_type": "stream",
     "text": [
      "/home/itwv/intelpython3/lib/python3.6/site-packages/ipykernel_launcher.py:45: DataConversionWarning: A column-vector y was passed when a 1d array was expected. Please change the shape of y to (n_samples,), for example using ravel().\n"
     ]
    },
    {
     "name": "stdout",
     "output_type": "stream",
     "text": [
      "1 RF\n"
     ]
    },
    {
     "name": "stderr",
     "output_type": "stream",
     "text": [
      "/home/itwv/intelpython3/lib/python3.6/site-packages/ipykernel_launcher.py:45: DataConversionWarning: A column-vector y was passed when a 1d array was expected. Please change the shape of y to (n_samples,), for example using ravel().\n"
     ]
    },
    {
     "name": "stdout",
     "output_type": "stream",
     "text": [
      "2 RF\n"
     ]
    },
    {
     "name": "stderr",
     "output_type": "stream",
     "text": [
      "/home/itwv/intelpython3/lib/python3.6/site-packages/ipykernel_launcher.py:45: DataConversionWarning: A column-vector y was passed when a 1d array was expected. Please change the shape of y to (n_samples,), for example using ravel().\n"
     ]
    },
    {
     "name": "stdout",
     "output_type": "stream",
     "text": [
      "3 RF\n"
     ]
    },
    {
     "name": "stderr",
     "output_type": "stream",
     "text": [
      "/home/itwv/intelpython3/lib/python3.6/site-packages/ipykernel_launcher.py:45: DataConversionWarning: A column-vector y was passed when a 1d array was expected. Please change the shape of y to (n_samples,), for example using ravel().\n"
     ]
    },
    {
     "name": "stdout",
     "output_type": "stream",
     "text": [
      "4 RF\n"
     ]
    },
    {
     "name": "stderr",
     "output_type": "stream",
     "text": [
      "/home/itwv/intelpython3/lib/python3.6/site-packages/ipykernel_launcher.py:45: DataConversionWarning: A column-vector y was passed when a 1d array was expected. Please change the shape of y to (n_samples,), for example using ravel().\n"
     ]
    },
    {
     "name": "stdout",
     "output_type": "stream",
     "text": [
      "5 RF\n"
     ]
    },
    {
     "name": "stderr",
     "output_type": "stream",
     "text": [
      "/home/itwv/intelpython3/lib/python3.6/site-packages/ipykernel_launcher.py:45: DataConversionWarning: A column-vector y was passed when a 1d array was expected. Please change the shape of y to (n_samples,), for example using ravel().\n"
     ]
    },
    {
     "name": "stdout",
     "output_type": "stream",
     "text": [
      "6 RF\n"
     ]
    },
    {
     "name": "stderr",
     "output_type": "stream",
     "text": [
      "/home/itwv/intelpython3/lib/python3.6/site-packages/ipykernel_launcher.py:45: DataConversionWarning: A column-vector y was passed when a 1d array was expected. Please change the shape of y to (n_samples,), for example using ravel().\n"
     ]
    },
    {
     "name": "stdout",
     "output_type": "stream",
     "text": [
      "7 RF\n"
     ]
    },
    {
     "name": "stderr",
     "output_type": "stream",
     "text": [
      "/home/itwv/intelpython3/lib/python3.6/site-packages/ipykernel_launcher.py:45: DataConversionWarning: A column-vector y was passed when a 1d array was expected. Please change the shape of y to (n_samples,), for example using ravel().\n"
     ]
    },
    {
     "name": "stdout",
     "output_type": "stream",
     "text": [
      "8 RF\n"
     ]
    },
    {
     "name": "stderr",
     "output_type": "stream",
     "text": [
      "/home/itwv/intelpython3/lib/python3.6/site-packages/ipykernel_launcher.py:45: DataConversionWarning: A column-vector y was passed when a 1d array was expected. Please change the shape of y to (n_samples,), for example using ravel().\n"
     ]
    },
    {
     "name": "stdout",
     "output_type": "stream",
     "text": [
      "9 RF\n"
     ]
    }
   ],
   "source": [
    "classifica(X,y)"
   ]
  },
  {
   "cell_type": "code",
   "execution_count": 14,
   "metadata": {},
   "outputs": [],
   "source": [
    "resultado_classificador = pd.read_csv('media_pode_experimentar_alcool.csv')"
   ]
  },
  {
   "cell_type": "code",
   "execution_count": 16,
   "metadata": {},
   "outputs": [],
   "source": [
    "#Podemos observar abaixo que o classificador está com uma ótima acurácia ACC e um ótimo AUC, próximos a 100%"
   ]
  },
  {
   "cell_type": "code",
   "execution_count": 15,
   "metadata": {},
   "outputs": [
    {
     "name": "stdout",
     "output_type": "stream",
     "text": [
      "  ALGORITHM   PRE    REC    SPE     F1    GEO    IBA       AUC       ACC\n",
      "0        RF  0.98  0.978  0.978  0.978  0.978  0.951  0.976152  0.976984\n"
     ]
    }
   ],
   "source": [
    "print(resultado_classificador)"
   ]
  },
  {
   "cell_type": "code",
   "execution_count": 17,
   "metadata": {},
   "outputs": [],
   "source": [
    "#Agora vamos analisar as principais características dos alunos que vao experimentar alcool para podermos tomar alguma ação para evitar isso."
   ]
  },
  {
   "cell_type": "code",
   "execution_count": 18,
   "metadata": {},
   "outputs": [],
   "source": [
    "#VB05003 - Que idade você tinha quando tomou a primeira dose de bebida alcoólica? (Uma dose equivale a uma lata de cerveja ou uma taça de vinho ou uma dose de cachaça ou uísque etc)"
   ]
  },
  {
   "cell_type": "code",
   "execution_count": 19,
   "metadata": {},
   "outputs": [],
   "source": [
    "columns = [\n",
    "'VB01001',\n",
    "'VB01002',\n",
    "'VB01003',\n",
    "'VB01021',\n",
    "'VB01022',\n",
    "'VB01023',\n",
    "'VB01024',\n",
    "'VB01025',\n",
    "'VB01026',\n",
    "'VB01006',\n",
    "'VB01007',\n",
    "'VB01010A',\n",
    "'VB01014',\n",
    "'VB01015A',\n",
    "'VB01016',\n",
    "'VB01017',\n",
    "'VB01018',\n",
    "'VB01008A',\n",
    "'VB01011',\n",
    "'VB01012',\n",
    "'VB02019A',\n",
    "'VB02017A',\n",
    "'VB02024',\n",
    "'VB03003A',\n",
    "'VB03006A',\n",
    "'VB03007',\n",
    "'VB03011A',\n",
    "'VB03009A',\n",
    "'VB03010A',\n",
    "'VB04003',\n",
    "'VB04009',\n",
    "'VB04011',\n",
    "'VB04005',\n",
    "'VB04006A',\n",
    "'VB05004',\n",
    "'VB05005',\n",
    "'VB05006A',\n",
    "'VB05007',\n",
    "'VB05009',\n",
    "'VB05010',\n",
    "'VB06003A',\n",
    "'VB06004A',\n",
    "'VB06005A',\n",
    "'VB06006',\n",
    "'VB07001',\n",
    "'VB07002',\n",
    "'VB07003',\n",
    "'VB07004',\n",
    "'VB07007',\n",
    "'VB07008',\n",
    "'VB07009',\n",
    "'VB07010',\n",
    "'VB12001',\n",
    "'VB12002',\n",
    "'VB12003',\n",
    "'VB08011',\n",
    "'VB08003A',\n",
    "'VB10001A',\n",
    "'VB09001',\n",
    "'VB09002',\n",
    "'VB09003',\n",
    "'VB09010',\n",
    "'VB09011',\n",
    "'VB09012',\n",
    "'VB09016',\n",
    "'VB0901701',\n",
    "'VB0901702',\n",
    "'VB0901703',\n",
    "'VB0901704',\n",
    "'VB0901705',\n",
    "'VB0901706',\n",
    "'VB11006',\n",
    "'VB11007',\n",
    "'VB11001',\n",
    "'VB11002',\n",
    "'VB11004A',\n",
    "'VB11005',\n",
    "'VB04001',\n",
    "'VB04002',\n",
    "'VB05002',\n",
    "'VB05003',\n",
    "'VB06001',\n",
    "'VB06002',\n",
    "'VB08001',\n",
    "'VB08002',\n",
    "'VB08013'\n",
    "]\n"
   ]
  },
  {
   "cell_type": "code",
   "execution_count": 20,
   "metadata": {},
   "outputs": [],
   "source": [
    "df = pd.read_csv('PENSE_AMOSTRA1_ALUNO.CSV',sep=';') #le arquivo\n",
    "df = df[columns] #pego somente as colunas de interesse\n",
    "df = df.reset_index()#refaço o index\n",
    "df.drop('index',inplace=True,axis=1)#tiro uma coluna\n",
    "#retira os alunos que não responderam se já experimentaram alcool\n",
    "df = df[df.VB05002 != 99]\n",
    "#retira os alunos que não responderam a idade em que experimentaram alcool\n",
    "df = df[df.VB05003 != 99]\n",
    "#retira os alunos que nunca tomaram bebida alcoolica\n",
    "df = df[df.VB05003 != 1]"
   ]
  },
  {
   "cell_type": "code",
   "execution_count": 21,
   "metadata": {},
   "outputs": [
    {
     "data": {
      "image/png": "[encoded data removed]",
      "text/plain": [
       "<Figure size 432x288 with 1 Axes>"
      ]
     },
     "metadata": {},
     "output_type": "display_data"
    }
   ],
   "source": [
    "df[['VB05003']].plot(kind='hist',bins=[7,8,9,10,11,12,13,14,15,16,17,18],rwidth=0.8)\n",
    "plt.show()"
   ]
  },
  {
   "cell_type": "code",
   "execution_count": 22,
   "metadata": {},
   "outputs": [
    {
     "data": {
      "text/plain": [
       "count    54077.000000\n",
       "mean        12.683877\n",
       "std          2.014689\n",
       "min          7.000000\n",
       "25%         12.000000\n",
       "50%         13.000000\n",
       "75%         14.000000\n",
       "max         18.000000\n",
       "Name: VB05003, dtype: float64"
      ]
     },
     "execution_count": 22,
     "metadata": {},
     "output_type": "execute_result"
    }
   ],
   "source": [
    "df.VB05003.describe()"
   ]
  },
  {
   "cell_type": "code",
   "execution_count": 23,
   "metadata": {},
   "outputs": [],
   "source": [
    "#Observando o gráfico acima, percebemos que para evitarmos que os alunos dêem o primeiro gole,\n",
    "#deve-se fazer campanhas para as crianças a partir dos 10 anos de idade.\n",
    "#Caso não seja possível por motivos de custo (todo o Brasil), o recomendável seria fazer a partir dos 12 anos.\n",
    "#Na média, os alunos tomam a primeira dose aos 12 anos de idade.\n",
    "#Podemos observar que São Paulo e Brasil apresentaram os mesmos resultados."
   ]
  },
  {
   "cell_type": "code",
   "execution_count": 24,
   "metadata": {},
   "outputs": [],
   "source": [
    "#VB06002 - Que idade você tinha quando usou droga como maconha, cocaína, crack, cola, loló, lança-perfume, ecstasy, oxy ou outra, pela primeira vez?"
   ]
  },
  {
   "cell_type": "code",
   "execution_count": 25,
   "metadata": {},
   "outputs": [],
   "source": [
    "df = pd.read_csv('PENSE_AMOSTRA1_ALUNO.CSV',sep=';') #le arquivo\n",
    "df = df[columns] #pego somente as colunas de interesse\n",
    "df = df.reset_index()#refaço o index\n",
    "df.drop('index',inplace=True,axis=1)#tiro uma coluna\n",
    "#retiro os que não informaram\n",
    "df = df[df.VB06002 != 99]\n",
    "#retiro os que pularam\n",
    "df = df[df.VB06002 != -1]"
   ]
  },
  {
   "cell_type": "code",
   "execution_count": 26,
   "metadata": {},
   "outputs": [
    {
     "data": {
      "image/png": "[encoded data removed]",
      "text/plain": [
       "<Figure size 432x288 with 1 Axes>"
      ]
     },
     "metadata": {},
     "output_type": "display_data"
    }
   ],
   "source": [
    "df[['VB06002']].plot(kind='hist',bins=[7,8,9,10,11,12,13,14,15,16,17,18],rwidth=0.8)\n",
    "plt.show()"
   ]
  },
  {
   "cell_type": "code",
   "execution_count": 27,
   "metadata": {},
   "outputs": [
    {
     "data": {
      "text/plain": [
       "count    8434.000000\n",
       "mean       13.444036\n",
       "std         1.735576\n",
       "min         7.000000\n",
       "25%        13.000000\n",
       "50%        14.000000\n",
       "75%        14.000000\n",
       "max        18.000000\n",
       "Name: VB06002, dtype: float64"
      ]
     },
     "execution_count": 27,
     "metadata": {},
     "output_type": "execute_result"
    }
   ],
   "source": [
    "df.VB06002.describe()"
   ]
  },
  {
   "cell_type": "code",
   "execution_count": 28,
   "metadata": {},
   "outputs": [],
   "source": [
    "#Observando o gráfico acima, devemos fazer campanhas de prevenção contra as drogas para os estudantes a partir dos 12 anos\n",
    "#de idade. Na média, os alunos começam a utilizar drogas a partir dos 13 anos de idade."
   ]
  },
  {
   "cell_type": "code",
   "execution_count": 29,
   "metadata": {},
   "outputs": [],
   "source": [
    "df = pd.read_csv('PENSE_AMOSTRA1_ALUNO.CSV',sep=';') #le arquivo\n",
    "df = df[columns] #pego somente as colunas de interesse\n",
    "df = df.reset_index()#refaço o index\n",
    "df.drop('index',inplace=True,axis=1)#tiro uma coluna\n",
    "#retiro os que não informaram\n",
    "df = df[df.VB08002 != 99]\n",
    "#retiro os que pularam\n",
    "df = df[df.VB08002 != -1]"
   ]
  },
  {
   "cell_type": "code",
   "execution_count": 30,
   "metadata": {},
   "outputs": [],
   "source": [
    "#VB08002 - Que idade você tinha quando teve relação sexual (transou) pela primeira vez?"
   ]
  },
  {
   "cell_type": "code",
   "execution_count": 31,
   "metadata": {},
   "outputs": [
    {
     "data": {
      "image/png": "[encoded data removed]",
      "text/plain": [
       "<Figure size 432x288 with 1 Axes>"
      ]
     },
     "metadata": {},
     "output_type": "display_data"
    }
   ],
   "source": [
    "df[['VB08002']].plot(kind='hist',bins=[7,8,9,10,11,12,13,14,15,16,17,18],rwidth=0.8)\n",
    "plt.show()"
   ]
  },
  {
   "cell_type": "code",
   "execution_count": 32,
   "metadata": {},
   "outputs": [
    {
     "data": {
      "text/plain": [
       "count    28346.000000\n",
       "mean        13.190186\n",
       "std          1.773640\n",
       "min          9.000000\n",
       "25%         12.000000\n",
       "50%         14.000000\n",
       "75%         14.000000\n",
       "max         18.000000\n",
       "Name: VB08002, dtype: float64"
      ]
     },
     "execution_count": 32,
     "metadata": {},
     "output_type": "execute_result"
    }
   ],
   "source": [
    "df.VB08002.describe()"
   ]
  },
  {
   "cell_type": "code",
   "execution_count": 33,
   "metadata": {},
   "outputs": [],
   "source": [
    "#Deve-se iniciar campanhas sobre o uso de preservativos e métodos anticoncepcionais a partir dos 9 anos de idade. Como\n",
    "#na cidade de São Paulo."
   ]
  },
  {
   "cell_type": "code",
   "execution_count": 34,
   "metadata": {},
   "outputs": [
    {
     "name": "stdout",
     "output_type": "stream",
     "text": [
      "(101257, 86)\n"
     ]
    }
   ],
   "source": [
    "df = pd.read_csv('PENSE_AMOSTRA1_ALUNO.CSV',sep=';') #le arquivo\n",
    "df = df[columns] #pego somente as colunas de interesse\n",
    "df = df.reset_index()#refaço o index\n",
    "df.drop('index',inplace=True,axis=1)#tiro uma coluna\n",
    "#retiro os que não informaram\n",
    "df = df[df.VB09002 != 99]\n",
    "print(df.shape)\n",
    "#retiro os que não faltaram\n",
    "df = df[df.VB09002 != 1]"
   ]
  },
  {
   "cell_type": "code",
   "execution_count": 35,
   "metadata": {},
   "outputs": [],
   "source": [
    "#VB09002 - NOS ÚLTIMOS 30 DIAS, em quantos dias você não foi à escola porque não se sentia seguro na escola?\n",
    "#A resposta a esta pergunta pode indicar sérios problemas psicológicos como depressão e transtornos"
   ]
  },
  {
   "cell_type": "code",
   "execution_count": 36,
   "metadata": {},
   "outputs": [
    {
     "data": {
      "image/png": "[encoded data removed]",
      "text/plain": [
       "<Figure size 432x288 with 1 Axes>"
      ]
     },
     "metadata": {},
     "output_type": "display_data"
    }
   ],
   "source": [
    "df[['VB09002']].plot(kind='hist',bins=[0,1,2,3,4,5,6,7],rwidth=0.8)\n",
    "plt.show()"
   ]
  },
  {
   "cell_type": "code",
   "execution_count": 37,
   "metadata": {},
   "outputs": [
    {
     "data": {
      "text/plain": [
       "count    8871.000000\n",
       "mean        3.317552\n",
       "std         1.510298\n",
       "min         2.000000\n",
       "25%         2.000000\n",
       "50%         3.000000\n",
       "75%         4.000000\n",
       "max         6.000000\n",
       "Name: VB09002, dtype: float64"
      ]
     },
     "execution_count": 37,
     "metadata": {},
     "output_type": "execute_result"
    }
   ],
   "source": [
    "df.VB09002.describe()"
   ]
  },
  {
   "cell_type": "code",
   "execution_count": 76,
   "metadata": {},
   "outputs": [],
   "source": [
    "#Dos 102072 alunos, 174 tiveram algum problema de medo nas dependencias da escola (pode indicar agressão, assédio, etc)"
   ]
  },
  {
   "cell_type": "code",
   "execution_count": null,
   "metadata": {},
   "outputs": [],
   "source": []
  }
 ],
 "metadata": {
  "kernelspec": {
   "display_name": "Python 3",
   "language": "python",
   "name": "python3"
  },
  "language_info": {
   "codemirror_mode": {
    "name": "ipython",
    "version": 3
   },
   "file_extension": ".py",
   "mimetype": "text/x-python",
   "name": "python",
   "nbconvert_exporter": "python",
   "pygments_lexer": "ipython3",
   "version": "3.6.6"
  }
 },
 "nbformat": 4,
 "nbformat_minor": 2
}
